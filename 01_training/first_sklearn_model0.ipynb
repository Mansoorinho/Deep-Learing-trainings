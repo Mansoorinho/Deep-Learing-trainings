{
 "cells": [
  {
   "cell_type": "code",
   "execution_count": 1,
   "id": "67898d2c",
   "metadata": {},
   "outputs": [],
   "source": [
    "%config IPCompleter.greedy = True\n",
    "%config InlineBackend.figure_format = 'retina'\n",
    "\n",
    "import matplotlib.pyplot as plt\n",
    "import numpy as np"
   ]
  },
  {
   "cell_type": "markdown",
   "id": "b816ca20",
   "metadata": {},
   "source": [
    "Creating first machine learning model using sklearn"
   ]
  },
  {
   "cell_type": "code",
   "execution_count": 2,
   "id": "a05c723c",
   "metadata": {},
   "outputs": [
    {
     "data": {
      "text/plain": [
       "['DESCR', 'data', 'feature_names', 'frame', 'images', 'target', 'target_names']"
      ]
     },
     "execution_count": 2,
     "metadata": {},
     "output_type": "execute_result"
    }
   ],
   "source": [
    "from sklearn import datasets\n",
    "\n",
    "digits = datasets.load_digits()\n",
    "dir(digits)"
   ]
  },
  {
   "cell_type": "code",
   "execution_count": 3,
   "id": "71cc51b2",
   "metadata": {},
   "outputs": [
    {
     "name": "stdout",
     "output_type": "stream",
     "text": [
      ".. _digits_dataset:\n",
      "\n",
      "Optical recognition of handwritten digits dataset\n",
      "--------------------------------------------------\n",
      "\n",
      "**Data Set Characteristics:**\n",
      "\n",
      "    :Number of Instances: 1797\n",
      "    :Number of Attributes: 64\n",
      "    :Attribute Information: 8x8 image of integer pixels in the range 0..16.\n",
      "    :Missing Attribute Values: None\n",
      "    :Creator: E. Alpaydin (alpaydin '@' boun.edu.tr)\n",
      "    :Date: July; 1998\n",
      "\n",
      "This is a copy of the test set of the UCI ML hand-written digits datasets\n",
      "https://archive.ics.uci.edu/ml/datasets/Optical+Recognition+of+Handwritten+Digits\n",
      "\n",
      "The data set contains images of hand-written digits: 10 classes where\n",
      "each class refers to a digit.\n",
      "\n",
      "Preprocessing programs made available by NIST were used to extract\n",
      "normalized bitmaps of handwritten digits from a preprinted form. From a\n",
      "total of 43 people, 30 contributed to the training set and different 13\n",
      "to the test set. 32x32 bitmaps are divided into nonoverlapping blocks of\n",
      "4x4 and the number of on pixels are counted in each block. This generates\n",
      "an input matrix of 8x8 where each element is an integer in the range\n",
      "0..16. This reduces dimensionality and gives invariance to small\n",
      "distortions.\n",
      "\n",
      "For info on NIST preprocessing routines, see M. D. Garris, J. L. Blue, G.\n",
      "T. Candela, D. L. Dimmick, J. Geist, P. J. Grother, S. A. Janet, and C.\n",
      "L. Wilson, NIST Form-Based Handprint Recognition System, NISTIR 5469,\n",
      "1994.\n",
      "\n",
      ".. topic:: References\n",
      "\n",
      "  - C. Kaynak (1995) Methods of Combining Multiple Classifiers and Their\n",
      "    Applications to Handwritten Digit Recognition, MSc Thesis, Institute of\n",
      "    Graduate Studies in Science and Engineering, Bogazici University.\n",
      "  - E. Alpaydin, C. Kaynak (1998) Cascading Classifiers, Kybernetika.\n",
      "  - Ken Tang and Ponnuthurai N. Suganthan and Xi Yao and A. Kai Qin.\n",
      "    Linear dimensionalityreduction using relevance weighted LDA. School of\n",
      "    Electrical and Electronic Engineering Nanyang Technological University.\n",
      "    2005.\n",
      "  - Claudio Gentile. A New Approximate Maximal Margin Classification\n",
      "    Algorithm. NIPS. 2000.\n",
      "\n"
     ]
    }
   ],
   "source": [
    "print(digits.DESCR)"
   ]
  },
  {
   "cell_type": "code",
   "execution_count": 4,
   "id": "a81f2362",
   "metadata": {},
   "outputs": [
    {
     "name": "stdout",
     "output_type": "stream",
     "text": [
      "Shape of images:(1797, 8, 8)\n"
     ]
    }
   ],
   "source": [
    "print(\"Shape of images:{}\".format(digits.images.shape))"
   ]
  },
  {
   "cell_type": "code",
   "execution_count": 5,
   "id": "463430f7",
   "metadata": {},
   "outputs": [
    {
     "name": "stdout",
     "output_type": "stream",
     "text": [
      "X examples: (1797, 64)\n"
     ]
    }
   ],
   "source": [
    "print(\"X examples: {}\".format(digits.data.shape))"
   ]
  },
  {
   "cell_type": "code",
   "execution_count": 6,
   "id": "2a47c836",
   "metadata": {},
   "outputs": [
    {
     "name": "stdout",
     "output_type": "stream",
     "text": [
      "Y labels: (1797,)\n"
     ]
    }
   ],
   "source": [
    "print(\"Y labels: {}\".format(digits.target.shape))"
   ]
  },
  {
   "cell_type": "code",
   "execution_count": 7,
   "id": "f0706554",
   "metadata": {},
   "outputs": [
    {
     "name": "stdout",
     "output_type": "stream",
     "text": [
      "Set of output classes {[0 1 2 3 4 5 6 7 8 9]}\n"
     ]
    }
   ],
   "source": [
    "print(\"Set of output classes {{{}}}\".format(digits.target_names))"
   ]
  },
  {
   "cell_type": "code",
   "execution_count": 8,
   "id": "232e809c",
   "metadata": {},
   "outputs": [
    {
     "name": "stdout",
     "output_type": "stream",
     "text": [
      "[[ 0.  0.  5. 13.  9.  1.  0.  0.]\n",
      " [ 0.  0. 13. 15. 10. 15.  5.  0.]\n",
      " [ 0.  3. 15.  2.  0. 11.  8.  0.]\n",
      " [ 0.  4. 12.  0.  0.  8.  8.  0.]\n",
      " [ 0.  5.  8.  0.  0.  9.  8.  0.]\n",
      " [ 0.  4. 11.  0.  1. 12.  7.  0.]\n",
      " [ 0.  2. 14.  5. 10. 12.  0.  0.]\n",
      " [ 0.  0.  6. 13. 10.  0.  0.  0.]]\n"
     ]
    }
   ],
   "source": [
    "print(digits.images[0])"
   ]
  },
  {
   "cell_type": "code",
   "execution_count": 9,
   "id": "44c0a315",
   "metadata": {},
   "outputs": [
    {
     "data": {
      "image/png": "[encoded data removed]",
      "text/plain": [
       "<Figure size 432x288 with 1 Axes>"
      ]
     },
     "metadata": {
      "image/png": {
       "height": 248,
       "width": 245
      },
      "needs_background": "light"
     },
     "output_type": "display_data"
    }
   ],
   "source": [
    "plt.figure()\n",
    "plt.imshow(16-digits.images[0],cmap='gray')\n",
    "plt.show()"
   ]
  },
  {
   "cell_type": "code",
   "execution_count": 10,
   "id": "c2401e49",
   "metadata": {},
   "outputs": [
    {
     "name": "stdout",
     "output_type": "stream",
     "text": [
      "Label for above image: 0\n"
     ]
    }
   ],
   "source": [
    "print(\"Label for above image:\", digits.target[0])"
   ]
  },
  {
   "cell_type": "markdown",
   "id": "cdddf143",
   "metadata": {},
   "source": [
    "## Ridge Regression\n",
    "https://en.wikipedia.org/wiki/Tikhonov_regularization\n",
    "\n",
    "https://www.math.uwaterloo.ca/~hwolkowi/matrixcookbook.pdf\n",
    "\n",
    "y = wx where w is a Real number\n",
    "\n",
    "-------------\n",
    "##### Ridge Regression Cost function\n",
    "least square error:   ||wx - y_hat||^2\n",
    "\n",
    "---------------\n",
    "Gradient Descent is used to make sure the model is converged\n",
    "\n",
    "https://en.wikipedia.org/wiki/Gradient_descent"
   ]
  },
  {
   "cell_type": "markdown",
   "id": "5c877eb9",
   "metadata": {},
   "source": [
    "min (wx-y_hat)^T.(wx-y_hat)\n",
    "\n",
    "#derivative\n",
    "\n",
    "d((wx-y_hat)^T.(wx-y_hat))/dw = -2x^T.(y-wx)\n",
    "\n",
    "d((wx-y_hat)^T.(wx-y_hat))/dw = -2x^T.(y-wx) = 0\n",
    "\n",
    "y = xw\n",
    "\n",
    "w = x^-1 . y\n"
   ]
  },
  {
   "cell_type": "code",
   "execution_count": 20,
   "id": "c10813ca",
   "metadata": {},
   "outputs": [],
   "source": [
    "#split the labeled dataset into a training and test dataset\n",
    "\n",
    "index_to_split = -1\n",
    "X_train = digits.data[:index_to_split]\n",
    "Y_train = digits.target[:index_to_split]\n",
    "\n",
    "X_test = digits.data[index_to_split:]\n",
    "Y_test = digits.target[index_to_split:]"
   ]
  },
  {
   "cell_type": "code",
   "execution_count": 21,
   "id": "02c3e6e9",
   "metadata": {},
   "outputs": [
    {
     "data": {
      "text/plain": [
       "((1796, 64), (1, 64))"
      ]
     },
     "execution_count": 21,
     "metadata": {},
     "output_type": "execute_result"
    }
   ],
   "source": [
    "X_train.shape, X_test.shape"
   ]
  },
  {
   "cell_type": "markdown",
   "id": "1104744a",
   "metadata": {},
   "source": [
    "Modelling in Numpy"
   ]
  },
  {
   "cell_type": "code",
   "execution_count": 22,
   "id": "7b4908a6",
   "metadata": {},
   "outputs": [
    {
     "name": "stdout",
     "output_type": "stream",
     "text": [
      "W: [-2.28119225e-15  9.40249350e-02 -3.67939617e-03 -7.72167429e-03\n",
      "  7.49514697e-02  1.15243563e-02 -2.72158636e-02 -7.31904304e-03\n",
      "  1.00102690e+00 -2.84132215e-02  1.18887868e-01  6.59994113e-02\n",
      " -5.58787175e-02 -7.04137172e-02  9.65429164e-02  2.56033005e-01\n",
      " -7.29405068e-01  2.40605548e-02  7.76124220e-02 -2.29357716e-02\n",
      " -5.66039721e-02  5.81134072e-02 -4.91673806e-02 -2.62755693e-01\n",
      " -9.08254598e-01 -1.49425933e-01  5.59359249e-02  8.97465435e-02\n",
      "  8.39772547e-02  9.83482587e-02  1.86692450e-03 -2.97298764e+00\n",
      "  1.80134125e-14 -1.54851687e-01 -8.97570476e-03  1.39494684e-01\n",
      " -3.67398683e-02  5.46737441e-02 -9.53756017e-03  1.54241244e-14\n",
      "  1.00930061e-01  1.23968401e-01 -1.37042140e-02  5.34285543e-03\n",
      "  1.30949507e-01  5.51389202e-02  2.24650594e-02  7.76787978e-03\n",
      "  6.14807150e-01  2.67348801e-02  1.20233616e-03 -6.19644555e-02\n",
      " -2.06960828e-01 -3.39245068e-02  1.05783054e-01 -1.40682284e-01\n",
      " -1.01420937e+00 -1.13249749e-01  2.06527116e-02 -4.39417720e-02\n",
      "  1.85650152e-02 -6.65628180e-02  1.14557345e-02 -5.23335705e-02]\n"
     ]
    }
   ],
   "source": [
    "# train model y = wx\n",
    "\n",
    "X_train_inv = np.linalg.pinv(X_train)\n",
    "w = np.dot(X_train_inv, Y_train)\n",
    "\n",
    "print(\"W: {}\".format(w))"
   ]
  },
  {
   "cell_type": "code",
   "execution_count": 24,
   "id": "c4a31d65",
   "metadata": {},
   "outputs": [
    {
     "name": "stdout",
     "output_type": "stream",
     "text": [
      "y_hat: [9.30939946] rounds to 9\n",
      "actual y label: [8]\n"
     ]
    },
    {
     "data": {
      "image/png": "[encoded data removed]",
      "text/plain": [
       "<Figure size 432x288 with 1 Axes>"
      ]
     },
     "metadata": {
      "image/png": {
       "height": 248,
       "width": 245
      },
      "needs_background": "light"
     },
     "output_type": "display_data"
    }
   ],
   "source": [
    "# Test Model\n",
    "\n",
    "y_hat = X_test @ w\n",
    "\n",
    "print(\"y_hat: {} rounds to {}\".format(y_hat, int(np.round(y_hat)[0])))\n",
    "print(\"actual y label: {}\".format(Y_test))\n",
    "plt.figure()\n",
    "plt.imshow(16- digits.images[-1], cmap = \"gray\")\n",
    "plt.show()"
   ]
  },
  {
   "cell_type": "code",
   "execution_count": null,
   "id": "d83273b8",
   "metadata": {},
   "outputs": [],
   "source": []
  }
 ],
 "metadata": {
  "kernelspec": {
   "display_name": "Python 3",
   "language": "python",
   "name": "python3"
  },
  "language_info": {
   "codemirror_mode": {
    "name": "ipython",
    "version": 3
   },
   "file_extension": ".py",
   "mimetype": "text/x-python",
   "name": "python",
   "nbconvert_exporter": "python",
   "pygments_lexer": "ipython3",
   "version": "3.8.8"
  }
 },
 "nbformat": 4,
 "nbformat_minor": 5
}
