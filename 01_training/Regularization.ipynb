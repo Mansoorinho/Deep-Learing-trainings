{
 "cells": [
  {
   "cell_type": "code",
   "execution_count": 1,
   "id": "dea56e14",
   "metadata": {},
   "outputs": [],
   "source": [
    "%config IPCompleter.greedy = True\n",
    "%config InlineBackend.figure_format = 'retina'\n",
    "\n",
    "import matplotlib.pyplot as plt\n",
    "import numpy as np"
   ]
  },
  {
   "cell_type": "markdown",
   "id": "a458fca0",
   "metadata": {},
   "source": [
    "### Regularization Introduction"
   ]
  },
  {
   "cell_type": "code",
   "execution_count": null,
   "id": "d455ec3d",
   "metadata": {},
   "outputs": [],
   "source": [
    "#setup an example dataset\n",
    "from sklearn.model_selection import train_test_split\n",
    "n_samples, n_features = 14,1\n",
    "np.random.seed(5)\n",
    "X = np.random.random_sample(n_samples)*2*np.pi - np.pi\n",
    "X = X.reshape((-1,1))\n",
    "\n",
    "y = np.sin(X) + (np.random.random_sample(n_samples)*0.1).reshape(-1,1)\n",
    "\n",
    "X_train, X_test, y_train, y_test = train_test_split(X,y, test_size=0.33)\n",
    "\n",
    "x_i = np.linspace(-np.pi, np.pi, 200)\n",
    "x_i = x_i.reshape(-1, 1)\n",
    "y_i = np.sin(x_i)\n",
    "\n",
    "print('{} Training samples')"
   ]
  }
 ],
 "metadata": {
  "kernelspec": {
   "display_name": "Python 3",
   "language": "python",
   "name": "python3"
  },
  "language_info": {
   "codemirror_mode": {
    "name": "ipython",
    "version": 3
   },
   "file_extension": ".py",
   "mimetype": "text/x-python",
   "name": "python",
   "nbconvert_exporter": "python",
   "pygments_lexer": "ipython3",
   "version": "3.8.8"
  }
 },
 "nbformat": 4,
 "nbformat_minor": 5
}
