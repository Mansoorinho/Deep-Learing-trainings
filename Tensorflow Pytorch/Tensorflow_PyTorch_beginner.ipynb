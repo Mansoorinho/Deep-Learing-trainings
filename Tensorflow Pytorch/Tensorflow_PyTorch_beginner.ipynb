{
 "cells": [
  {
   "cell_type": "markdown",
   "metadata": {},
   "source": [
    "# An introduction to Tensorflow and PyTorch"
   ]
  },
  {
   "cell_type": "markdown",
   "metadata": {},
   "source": [
    "This notebook is based on the deep learning course and lab provided on the http://introtodeeplearning.com/"
   ]
  },
  {
   "cell_type": "code",
   "execution_count": 11,
   "metadata": {},
   "outputs": [],
   "source": [
    "#importing necessary libraries.\n",
    "\n",
    "import tensorflow as tf  #tensorflow\n",
    "import torch  #PyTorch\n",
    "from torch import nn #neural network\n",
    "\n",
    "import numpy as np #numerical computation\n",
    "import matplotlib.pyplot as plt #for visualization"
   ]
  },
  {
   "cell_type": "code",
   "execution_count": 2,
   "metadata": {},
   "outputs": [
    {
     "data": {
      "text/plain": [
       "('2.10.0', '1.12.1+cpu', '1.21.0')"
      ]
     },
     "execution_count": 2,
     "metadata": {},
     "output_type": "execute_result"
    }
   ],
   "source": [
    "#checking the versions\n",
    "tf.__version__, torch.__version__, np.__version__"
   ]
  },
  {
   "cell_type": "markdown",
   "metadata": {},
   "source": [
    "Examples, working with Tensors"
   ]
  },
  {
   "cell_type": "code",
   "execution_count": 14,
   "metadata": {},
   "outputs": [
    {
     "name": "stdout",
     "output_type": "stream",
     "text": [
      "Tensorflow\n",
      "rank: 0\n",
      "shape: []\n",
      "shape: ()\n"
     ]
    }
   ],
   "source": [
    "#creating tensors in Tensorflow\n",
    "sport = tf.constant(\"Soccer\", tf.string) # a string\n",
    "number = tf.constant(1.41421356237, tf.float64) # a float\n",
    "#rank is the number of dimensions of the tensor, shape represents the size of each dimension.\n",
    "print(f\"Tensorflow\\nrank: {tf.rank(sport).numpy()}\\nshape: {tf.shape(sport)}\")\n",
    "#*********************************\n",
    "#*********************************\n",
    "\n",
    "#PyTorch equivalent\n",
    "\n",
    "# can't make a string tensor in pytorch\n",
    "number = torch.tensor(1.143254, dtype = torch.float64)\n",
    "#dimension only available for 2d\n",
    "print(f\"shape: {number.numpy().shape}\")"
   ]
  },
  {
   "cell_type": "code",
   "execution_count": 15,
   "metadata": {},
   "outputs": [],
   "source": [
    "#Tensorflow\n",
    "#a random matrix in numpy\n",
    "matrix_tf = np.random.random(size=(10,2))\n",
    "#convert it to tensor\n",
    "matrix_tf = tf.convert_to_tensor(matrix_tf)\n",
    "\n",
    "#checking\n",
    "assert isinstance(matrix_tf, tf.Tensor)\n",
    "assert tf.rank(matrix_tf).numpy() == 2\n",
    "#***************************\n",
    "\n",
    "#PyTorch\n",
    "#a random matrix in numpy\n",
    "matrixx = np.random.random(size=(10,2))\n",
    "#convert it to tensor\n",
    "matrix_pt = torch.as_tensor(matrixx)\n",
    "#using from_numpy method\n",
    "matrix_ = torch.from_numpy(matrixx)\n",
    "\n",
    "#checking\n",
    "assert isinstance(matrix_pt, torch.Tensor)\n",
    "assert torch.matrix_rank(matrix_pt).numpy() == 2"
   ]
  },
  {
   "cell_type": "code",
   "execution_count": 16,
   "metadata": {},
   "outputs": [],
   "source": [
    "#using tensorflow to create matrix of random numbers\n",
    "mat = tf.random.normal([10,2], dtype= tf.float64)\n",
    "assert isinstance(mat, tf.Tensor)\n",
    "\n",
    "#******************\n",
    "# PyTorch\n",
    "mat = torch.normal(0,1,size=(10, 2), dtype= torch.float64)\n",
    "assert isinstance(mat, torch.Tensor)"
   ]
  },
  {
   "cell_type": "code",
   "execution_count": 7,
   "metadata": {},
   "outputs": [
    {
     "data": {
      "text/plain": [
       "array([0.63426526, 0.67673623])"
      ]
     },
     "execution_count": 7,
     "metadata": {},
     "output_type": "execute_result"
    }
   ],
   "source": [
    "matrix_tf[1].numpy()"
   ]
  },
  {
   "cell_type": "code",
   "execution_count": 17,
   "metadata": {},
   "outputs": [
    {
     "data": {
      "text/plain": [
       "array([0.56662294, 0.05679811])"
      ]
     },
     "execution_count": 17,
     "metadata": {},
     "output_type": "execute_result"
    }
   ],
   "source": [
    "matrix_pt[1].numpy()"
   ]
  },
  {
   "cell_type": "code",
   "execution_count": 18,
   "metadata": {},
   "outputs": [
    {
     "name": "stdout",
     "output_type": "stream",
     "text": [
      "tf.Tensor(14, shape=(), dtype=int32) tf.Tensor(14, shape=(), dtype=int32)\n",
      "tensor(14) tensor(14)\n"
     ]
    }
   ],
   "source": [
    "#TensorFlow\n",
    "#creating constant tensors\n",
    "a = tf.constant(5)\n",
    "b = tf.constant(9)\n",
    "#addition operation using tensorflow.\n",
    "c = tf.add(a,b)\n",
    "#normal addition\n",
    "c2 = a+b\n",
    "print(c, c2)\n",
    "\n",
    "#***************\n",
    "#PyTorch\n",
    "a = torch.tensor(5)\n",
    "b = torch.tensor(9)\n",
    "\n",
    "c = torch.add(a,b)\n",
    "c2 = a+b\n",
    "print(c, c2)"
   ]
  },
  {
   "cell_type": "code",
   "execution_count": 19,
   "metadata": {},
   "outputs": [
    {
     "name": "stdout",
     "output_type": "stream",
     "text": [
      "6.0\n",
      "6.0\n"
     ]
    }
   ],
   "source": [
    "#TensorFlow\n",
    "#a custom function\n",
    "def func(a,b):\n",
    "  c = tf.add(a,b)\n",
    "  d = tf.subtract(b,1)\n",
    "  e = tf.multiply(c,d)\n",
    "\n",
    "  return e\n",
    "\n",
    "a, b = 1.5, 2.5\n",
    "\n",
    "e_out = func(a,b)\n",
    "print(e_out.numpy())\n",
    "#***************************\n",
    "#PyTorch\n",
    "def func(a,b):\n",
    "  c = torch.add(a,b)\n",
    "  d = torch.subtract(b,1)\n",
    "  e = torch.multiply(c,d)\n",
    "\n",
    "  return e\n",
    "\n",
    "a, b = 1.5, 2.5\n",
    "\n",
    "e_out = func(a,b)\n",
    "print(e_out.numpy())"
   ]
  },
  {
   "cell_type": "markdown",
   "metadata": {},
   "source": [
    "# Neural Networks in TensorFlow/PyTorch"
   ]
  },
  {
   "cell_type": "markdown",
   "metadata": {},
   "source": [
    "## TensorFlow"
   ]
  },
  {
   "cell_type": "code",
   "execution_count": 20,
   "metadata": {},
   "outputs": [
    {
     "name": "stdout",
     "output_type": "stream",
     "text": [
      "[[0.8964527  0.44808388 0.25748628]]\n"
     ]
    }
   ],
   "source": [
    "#Tensorflow\n",
    "# a simple perceptron; y = sigmoid_function(Wx + b)\n",
    "# Defining a network layer\n",
    "\n",
    "# n_output_nodes: number of output nodes\n",
    "# input_shape: shape of the input\n",
    "# x: input to the layer\n",
    "\n",
    "class DenseLayer(tf.keras.layers.Layer):\n",
    "  def __init__(self, n_output_nodes):\n",
    "    super(DenseLayer, self).__init__()\n",
    "    self.n_output_nodes = n_output_nodes\n",
    "\n",
    "  def build(self, input_shape):\n",
    "    d = int(input_shape[-1])\n",
    "    self.W = self.add_weight(\"weight\", shape=[d, self.n_output_nodes])\n",
    "    self.b = self.add_weight(\"bias\", shape=[1, self.n_output_nodes]) \n",
    "\n",
    "  def call(self, x):\n",
    "    z = tf.matmul(x, self.W)\n",
    "    z = tf.add(z, self.b)\n",
    "\n",
    "    y = tf.sigmoid(z)\n",
    "\n",
    "    return y\n",
    "\n",
    "#fixing the seed\n",
    "tf.random.set_seed(1)\n",
    "#creating an instance of our denselayer\n",
    "layer = DenseLayer(3)\n",
    "layer.build((1,2))\n",
    "x_input = tf.constant([[1,2.]], shape=(1,2))\n",
    "y = layer.call(x_input)\n",
    "\n",
    "print(y.numpy())"
   ]
  },
  {
   "cell_type": "markdown",
   "metadata": {},
   "source": [
    "## PyTorch"
   ]
  },
  {
   "cell_type": "code",
   "execution_count": 23,
   "metadata": {},
   "outputs": [
    {
     "name": "stdout",
     "output_type": "stream",
     "text": [
      "[[1.         0.50000036 1.        ]]\n"
     ]
    }
   ],
   "source": [
    "#PyTorch implementation of the previous cell\n",
    "class DenseLayer(nn.Module):\n",
    "  def __init__(self, n_output_nodes):\n",
    "    super(DenseLayer, self).__init__()\n",
    "    self.n_output_nodes = n_output_nodes\n",
    "\n",
    "  def build(self, input_shape):\n",
    "    d = int(input_shape[-1])\n",
    "\n",
    "    self.W = torch.nn.Parameter(torch.empty((d, self.n_output_nodes)))\n",
    "    self.b = torch.nn.Parameter(torch.empty((1, self.n_output_nodes)))\n",
    "\n",
    "  def call(self, x):\n",
    "    z = torch.matmul(x, self.W)\n",
    "    z = torch.add(z, self.b)\n",
    "\n",
    "    y = torch.sigmoid(z)\n",
    "\n",
    "    return y\n",
    "\n",
    "torch.manual_seed(1)\n",
    "layer = DenseLayer(3)\n",
    "layer.build((1,2))\n",
    "x_input = torch.tensor([[1.0,2.0]])\n",
    "y = layer.call(x_input)\n",
    "\n",
    "print(y.detach().numpy())"
   ]
  },
  {
   "cell_type": "markdown",
   "metadata": {},
   "source": [
    "## Tensorflow"
   ]
  },
  {
   "cell_type": "code",
   "execution_count": 33,
   "metadata": {},
   "outputs": [
    {
     "name": "stdout",
     "output_type": "stream",
     "text": [
      "Model: \"sequential_2\"\n",
      "_________________________________________________________________\n",
      " Layer (type)                Output Shape              Param #   \n",
      "=================================================================\n",
      " dense_2 (Dense)             (1, 3)                    9         \n",
      "                                                                 \n",
      "=================================================================\n",
      "Total params: 9\n",
      "Trainable params: 9\n",
      "Non-trainable params: 0\n",
      "_________________________________________________________________\n",
      "None\n",
      "tf.Tensor([[0.11041237 0.08901978 0.23369594]], shape=(1, 3), dtype=float32)\n"
     ]
    }
   ],
   "source": [
    "#Defining a neural network using the sequential API\n",
    "from tensorflow.keras import Sequential\n",
    "from tensorflow.keras.layers import Dense\n",
    "\n",
    "n_output_nodes = 3\n",
    "\n",
    "#first define the model\n",
    "model = Sequential()\n",
    "#layer\n",
    "dense_layer = Dense(n_output_nodes, activation=\"sigmoid\")\n",
    "model.add(dense_layer)\n",
    "\n",
    "# Test model with example input\n",
    "tf.random.set_seed(1)\n",
    "x_input = tf.constant([[1,2.]], shape=(1,2))\n",
    "model_output  = model(x_input)\n",
    "print(model.summary())\n",
    "print(model_output)"
   ]
  },
  {
   "cell_type": "markdown",
   "metadata": {},
   "source": [
    "## PyTorch"
   ]
  },
  {
   "cell_type": "code",
   "execution_count": 35,
   "metadata": {},
   "outputs": [
    {
     "name": "stdout",
     "output_type": "stream",
     "text": [
      "Sequential(\n",
      "  (0): Linear(in_features=2, out_features=3, bias=True)\n",
      "  (1): Sigmoid()\n",
      ")\n",
      "tensor([[0.6314, 0.1824, 0.5708]], grad_fn=<SigmoidBackward0>)\n"
     ]
    }
   ],
   "source": [
    "#PyTorch implementation of the previous cell\n",
    "\n",
    "densenet = nn.Sequential(nn.Linear(2,3), nn.Sigmoid())\n",
    "x_input_pt = torch.tensor([[1.0,2.0]], dtype=torch.float32)\n",
    "model_pt = densenet(x_input_pt)\n",
    "print(densenet)\n",
    "print(model_pt)"
   ]
  },
  {
   "cell_type": "markdown",
   "metadata": {},
   "source": [
    "## TensorFlow"
   ]
  },
  {
   "cell_type": "code",
   "execution_count": 38,
   "metadata": {},
   "outputs": [
    {
     "name": "stdout",
     "output_type": "stream",
     "text": [
      "tf.Tensor([[0.69637954 0.524717   0.22774373]], shape=(1, 3), dtype=float32)\n"
     ]
    }
   ],
   "source": [
    "#Defining a model using subclassing \n",
    "\n",
    "from tensorflow.keras import Model\n",
    "from tensorflow.keras.layers import Dense\n",
    "\n",
    "class SubclassModel(tf.keras.Model):\n",
    "  def __init__(self, n_output_nodes):\n",
    "    super(SubclassModel, self).__init__()\n",
    "    self.dense_layer = Dense(n_output_nodes, activation=\"sigmoid\")\n",
    "\n",
    "  def call(self, inputs):\n",
    "    return self.dense_layer(inputs)\n",
    "\n",
    "n_output_nodes = 3\n",
    "model = SubclassModel(n_output_nodes)\n",
    "x_input = tf.constant([[1.0, 2.0]], shape=(1,2))\n",
    "print(model.call(x_input))"
   ]
  },
  {
   "cell_type": "markdown",
   "metadata": {},
   "source": [
    "## PyTorch"
   ]
  },
  {
   "cell_type": "code",
   "execution_count": 39,
   "metadata": {},
   "outputs": [
    {
     "name": "stdout",
     "output_type": "stream",
     "text": [
      "tensor([[0.5340, 0.2857, 0.3189]], grad_fn=<SigmoidBackward0>)\n"
     ]
    }
   ],
   "source": [
    "#PyTorch implementation of the previous cell\n",
    "\n",
    "#Defining a model using subclassing \n",
    "\n",
    "class SubclassModel(nn.Module):\n",
    "  def __init__(self, input_features, n_output_nodes):\n",
    "    super(SubclassModel, self).__init__()\n",
    "    self.dense_layer = nn.Linear(in_features= input_features, out_features = n_output_nodes)\n",
    "\n",
    "  def call(self, inputs):\n",
    "    res =  self.dense_layer(inputs)\n",
    "    return torch.sigmoid(res)\n",
    "\n",
    "\n",
    "n_output_nodes = 3\n",
    "input_features = 2\n",
    "model = SubclassModel(input_features, n_output_nodes)\n",
    "x_input = torch.tensor([[1.0,2.0]])\n",
    "print(model.call(x_input))"
   ]
  },
  {
   "cell_type": "markdown",
   "metadata": {},
   "source": [
    "## TensorFlow"
   ]
  },
  {
   "cell_type": "code",
   "execution_count": 40,
   "metadata": {},
   "outputs": [
    {
     "name": "stdout",
     "output_type": "stream",
     "text": [
      "activate: [[0.9436917  0.50894916 0.7811435 ]]\n",
      " identity: [[1. 2.]]\n"
     ]
    }
   ],
   "source": [
    "#defining a model using subclassing and specifying custom behaviour\n",
    "\n",
    "class IdentityModel(tf.keras.Model):\n",
    "  def __init__(self, n_output_nodes):\n",
    "    super(IdentityModel, self).__init__()\n",
    "    self.dense_layer = Dense(n_output_nodes, activation = \"sigmoid\")\n",
    "\n",
    "  def call(self, inputs, isidentity=False):\n",
    "    x = self.dense_layer(inputs)\n",
    "    if isidentity:\n",
    "      return inputs\n",
    "    else:\n",
    "      return x\n",
    "\n",
    "\n",
    "n_output_nodes = 3\n",
    "model = IdentityModel(n_output_nodes)\n",
    "\n",
    "x_input = tf.constant([[1,2.]], shape=(1,2))\n",
    "\n",
    "out_activate = model.call(inputs = x_input, isidentity=False)\n",
    "out_identity = model.call(inputs = x_input, isidentity=True)\n",
    "\n",
    "print(f\"activate: {out_activate.numpy()}\\n identity: {out_identity.numpy()}\")"
   ]
  },
  {
   "cell_type": "markdown",
   "metadata": {},
   "source": [
    "## PyTorch"
   ]
  },
  {
   "cell_type": "code",
   "execution_count": 41,
   "metadata": {},
   "outputs": [
    {
     "name": "stdout",
     "output_type": "stream",
     "text": [
      "activate: [[0.45601484 0.46763867 0.6969129 ]]\n",
      " identity: [[1. 2.]]\n"
     ]
    }
   ],
   "source": [
    "#defining a model using subclassing and specifying custom behaviour\n",
    "\n",
    "class IdentityModel(nn.Module):\n",
    "  def __init__(self, input_features, n_output_nodes):\n",
    "    super(IdentityModel, self).__init__()\n",
    "    self.dense_layer = nn.Linear(in_features= input_features, out_features = n_output_nodes)\n",
    "\n",
    "  def call(self, inputs, isidentity=False):\n",
    "    x = torch.sigmoid(self.dense_layer(inputs))\n",
    "    if isidentity:\n",
    "      return inputs\n",
    "    else:\n",
    "      return x\n",
    "\n",
    "\n",
    "n_output_nodes = 3\n",
    "input_features = 2\n",
    "model = IdentityModel(input_features, n_output_nodes)\n",
    "\n",
    "x_input = torch.tensor([[1.0,2.0]])\n",
    "\n",
    "out_activate = model.call(inputs = x_input, isidentity=False)\n",
    "out_identity = model.call(inputs = x_input, isidentity=True)\n",
    "\n",
    "print(f\"activate: {out_activate.detach().numpy()}\\n identity: {out_identity.detach().numpy()}\")"
   ]
  },
  {
   "cell_type": "markdown",
   "metadata": {},
   "source": [
    "# Automatic Differentiation"
   ]
  },
  {
   "cell_type": "code",
   "execution_count": 42,
   "metadata": {},
   "outputs": [],
   "source": [
    "#TensorFlow\n",
    "# Gradient computation with GradientTape\n",
    "\n",
    "#y = x^2\n",
    "# example x=3.0\n",
    "x = tf.Variable(3.0)\n",
    "\n",
    "#initiate the gradient tape\n",
    "with tf.GradientTape() as tape:\n",
    "  y = x*x\n",
    "\n",
    "dy_dx = tape.gradient(y,x)\n",
    "#checking\n",
    "assert dy_dx.numpy() == 6.0\n",
    "\n",
    "#***************\n",
    "#PyTorch\n",
    "\n",
    "#y = x^2\n",
    "# example x=3.0\n",
    "x = torch.tensor(3.0, requires_grad=True)\n",
    "\n",
    "#equation\n",
    "y = x*x\n",
    "\n",
    "y.backward()\n",
    "\n",
    "dy_dx = x.grad\n",
    "#checking\n",
    "assert dy_dx.detach().numpy() == 6.0"
   ]
  },
  {
   "cell_type": "code",
   "execution_count": 43,
   "metadata": {},
   "outputs": [
    {
     "name": "stdout",
     "output_type": "stream",
     "text": [
      "Result of the equation 9.0\n",
      "Derative result 6.0\n"
     ]
    }
   ],
   "source": [
    "#result of the equation\n",
    "print(\"Result of the equation\", y.detach().numpy())\n",
    "\n",
    "#Derative result\n",
    "print(\"Derative result\",x.grad.detach().numpy())"
   ]
  },
  {
   "cell_type": "markdown",
   "metadata": {},
   "source": [
    "## Tensorflow"
   ]
  },
  {
   "cell_type": "code",
   "execution_count": 46,
   "metadata": {},
   "outputs": [
    {
     "name": "stdout",
     "output_type": "stream",
     "text": [
      "Initializing x = [[0.40308788]]\n"
     ]
    },
    {
     "data": {
      "image/png": "[encoded data removed]",
      "text/plain": [
       "<Figure size 432x288 with 1 Axes>"
      ]
     },
     "metadata": {
      "needs_background": "light"
     },
     "output_type": "display_data"
    }
   ],
   "source": [
    "x = tf.Variable([tf.random.normal([1])])\n",
    "print(\"Initializing x = {}\".format(x.numpy()))\n",
    "\n",
    "learning_rate = 1e-2\n",
    "history = []\n",
    "x_f = 10.5\n",
    "\n",
    "for i in range(500):\n",
    "  with tf.GradientTape() as tape:\n",
    "    l = tf.subtract(x, x_f)\n",
    "    loss = tf.pow(l, 2)\n",
    "\n",
    "  grad = tape.gradient(loss, x)\n",
    "  new_x = x - learning_rate*grad\n",
    "  x.assign(new_x)\n",
    "  history.append(x.numpy()[0])\n",
    "\n",
    "\n",
    "plt.plot(history)\n",
    "plt.plot([0,500],[x_f, x_f])\n",
    "plt.legend(('Predicted', 'True'))\n",
    "plt.xlabel('Iteration')\n",
    "plt.ylabel('x value')\n",
    "plt.show()"
   ]
  },
  {
   "cell_type": "code",
   "execution_count": 48,
   "metadata": {},
   "outputs": [
    {
     "data": {
      "text/plain": [
       "[array([10.4995775], dtype=float32), array([10.499586], dtype=float32)]"
      ]
     },
     "execution_count": 48,
     "metadata": {},
     "output_type": "execute_result"
    }
   ],
   "source": [
    "history[-2:]"
   ]
  },
  {
   "cell_type": "markdown",
   "metadata": {},
   "source": [
    "## PyTorch"
   ]
  },
  {
   "cell_type": "code",
   "execution_count": 49,
   "metadata": {},
   "outputs": [
    {
     "name": "stdout",
     "output_type": "stream",
     "text": [
      "Initializing x = [-0.1132018]\n"
     ]
    },
    {
     "data": {
      "image/png": "[encoded data removed]",
      "text/plain": [
       "<Figure size 432x288 with 1 Axes>"
      ]
     },
     "metadata": {
      "needs_background": "light"
     },
     "output_type": "display_data"
    }
   ],
   "source": [
    "x = torch.randn(1, requires_grad=True, dtype= torch.float64)\n",
    "print(\"Initializing x = {}\".format(x.detach().numpy()))\n",
    "\n",
    "learning_rate = 1e-2\n",
    "history = []\n",
    "x_f = torch.tensor(10.5, dtype= torch.float64)\n",
    "\n",
    "for i in range(500):\n",
    "  loss = (x - x_f).pow(2).sum()#.clone().detach().requires_grad_(True)\n",
    "  loss.backward()\n",
    "\n",
    "  with torch.no_grad():\n",
    "      x.copy_(x - learning_rate*x.grad)\n",
    "      #x.data = new_x.data\n",
    "  x.grad.zero_()\n",
    "  history.append(x.detach().numpy()[0])\n",
    "\n",
    "\n",
    "plt.plot(history)\n",
    "plt.plot([0,500],[x_f, x_f])\n",
    "plt.legend(('Predicted', 'True'))\n",
    "plt.xlabel('Iteration')\n",
    "plt.ylabel('x value')\n",
    "plt.show()"
   ]
  },
  {
   "cell_type": "code",
   "execution_count": 50,
   "metadata": {},
   "outputs": [
    {
     "data": {
      "text/plain": [
       "[10.499555718537657, 10.499564604166904]"
      ]
     },
     "execution_count": 50,
     "metadata": {},
     "output_type": "execute_result"
    }
   ],
   "source": [
    "history[-2:]"
   ]
  },
  {
   "cell_type": "code",
   "execution_count": null,
   "metadata": {},
   "outputs": [],
   "source": []
  }
 ],
 "metadata": {
  "kernelspec": {
   "display_name": "Python 3.9.6 64-bit",
   "language": "python",
   "name": "python3"
  },
  "language_info": {
   "codemirror_mode": {
    "name": "ipython",
    "version": 3
   },
   "file_extension": ".py",
   "mimetype": "text/x-python",
   "name": "python",
   "nbconvert_exporter": "python",
   "pygments_lexer": "ipython3",
   "version": "3.9.6"
  },
  "orig_nbformat": 4,
  "vscode": {
   "interpreter": {
    "hash": "c50cf09ab0329ccd20bb189976f78b644f53f0461f30c902e674e2072027ed74"
   }
  }
 },
 "nbformat": 4,
 "nbformat_minor": 2
}
