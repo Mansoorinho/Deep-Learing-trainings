{
 "cells": [
  {
   "cell_type": "markdown",
   "metadata": {},
   "source": [
    "# An introduction to Tensorflow and PyTorch"
   ]
  },
  {
   "cell_type": "markdown",
   "metadata": {},
   "source": [
    "This notebook is based on the deep learning course and lab provided on the http://introtodeeplearning.com/"
   ]
  },
  {
   "cell_type": "code",
   "execution_count": 11,
   "metadata": {},
   "outputs": [],
   "source": [
    "#importing necessary libraries.\n",
    "\n",
    "import tensorflow as tf  #tensorflow\n",
    "import torch  #PyTorch\n",
    "from torch import nn #neural network\n",
    "\n",
    "import numpy as np #numerical computation\n",
    "import matplotlib.pyplot as plt #for visualization"
   ]
  },
  {
   "cell_type": "code",
   "execution_count": 2,
   "metadata": {},
   "outputs": [
    {
     "data": {
      "text/plain": [
       "('2.10.0', '1.12.1+cpu', '1.21.0')"
      ]
     },
     "execution_count": 2,
     "metadata": {},
     "output_type": "execute_result"
    }
   ],
   "source": [
    "#checking the versions\n",
    "tf.__version__, torch.__version__, np.__version__"
   ]
  },
  {
   "cell_type": "markdown",
   "metadata": {},
   "source": [
    "Examples, working with Tensors"
   ]
  },
  {
   "cell_type": "code",
   "execution_count": 14,
   "metadata": {},
   "outputs": [
    {
     "name": "stdout",
     "output_type": "stream",
     "text": [
      "Tensorflow\n",
      "rank: 0\n",
      "shape: []\n",
      "shape: ()\n"
     ]
    }
   ],
   "source": [
    "#creating tensors in Tensorflow\n",
    "sport = tf.constant(\"Soccer\", tf.string) # a string\n",
    "number = tf.constant(1.41421356237, tf.float64) # a float\n",
    "#rank is the number of dimensions of the tensor, shape represents the size of each dimension.\n",
    "print(f\"Tensorflow\\nrank: {tf.rank(sport).numpy()}\\nshape: {tf.shape(sport)}\")\n",
    "#*********************************\n",
    "#*********************************\n",
    "\n",
    "#PyTorch equivalent\n",
    "\n",
    "# can't make a string tensor in pytorch\n",
    "number = torch.tensor(1.143254, dtype = torch.float64)\n",
    "#dimension only available for 2d\n",
    "print(f\"shape: {number.numpy().shape}\")"
   ]
  },
  {
   "cell_type": "code",
   "execution_count": 15,
   "metadata": {},
   "outputs": [],
   "source": [
    "#Tensorflow\n",
    "#a random matrix in numpy\n",
    "matrix_tf = np.random.random(size=(10,2))\n",
    "#convert it to tensor\n",
    "matrix_tf = tf.convert_to_tensor(matrix_tf)\n",
    "\n",
    "#checking\n",
    "assert isinstance(matrix_tf, tf.Tensor)\n",
    "assert tf.rank(matrix_tf).numpy() == 2\n",
    "#***************************\n",
    "\n",
    "#PyTorch\n",
    "#a random matrix in numpy\n",
    "matrixx = np.random.random(size=(10,2))\n",
    "#convert it to tensor\n",
    "matrix_pt = torch.as_tensor(matrixx)\n",
    "#using from_numpy method\n",
    "matrix_ = torch.from_numpy(matrixx)\n",
    "\n",
    "#checking\n",
    "assert isinstance(matrix_pt, torch.Tensor)\n",
    "assert torch.matrix_rank(matrix_pt).numpy() == 2"
   ]
  },
  {
   "cell_type": "code",
   "execution_count": 16,
   "metadata": {},
   "outputs": [],
   "source": [
    "#using tensorflow to create matrix of random numbers\n",
    "mat = tf.random.normal([10,2], dtype= tf.float64)\n",
    "assert isinstance(mat, tf.Tensor)\n",
    "\n",
    "#******************\n",
    "# PyTorch\n",
    "mat = torch.normal(0,1,size=(10, 2), dtype= torch.float64)\n",
    "assert isinstance(mat, torch.Tensor)"
   ]
  },
  {
   "cell_type": "code",
   "execution_count": 7,
   "metadata": {},
   "outputs": [
    {
     "data": {
      "text/plain": [
       "array([0.63426526, 0.67673623])"
      ]
     },
     "execution_count": 7,
     "metadata": {},
     "output_type": "execute_result"
    }
   ],
   "source": [
    "matrix_tf[1].numpy()"
   ]
  },
  {
   "cell_type": "code",
   "execution_count": 17,
   "metadata": {},
   "outputs": [
    {
     "data": {
      "text/plain": [
       "array([0.56662294, 0.05679811])"
      ]
     },
     "execution_count": 17,
     "metadata": {},
     "output_type": "execute_result"
    }
   ],
   "source": [
    "matrix_pt[1].numpy()"
   ]
  },
  {
   "cell_type": "code",
   "execution_count": 18,
   "metadata": {},
   "outputs": [
    {
     "name": "stdout",
     "output_type": "stream",
     "text": [
      "tf.Tensor(14, shape=(), dtype=int32) tf.Tensor(14, shape=(), dtype=int32)\n",
      "tensor(14) tensor(14)\n"
     ]
    }
   ],
   "source": [
    "#TensorFlow\n",
    "#creating constant tensors\n",
    "a = tf.constant(5)\n",
    "b = tf.constant(9)\n",
    "#addition operation using tensorflow.\n",
    "c = tf.add(a,b)\n",
    "#normal addition\n",
    "c2 = a+b\n",
    "print(c, c2)\n",
    "\n",
    "#***************\n",
    "#PyTorch\n",
    "a = torch.tensor(5)\n",
    "b = torch.tensor(9)\n",
    "\n",
    "c = torch.add(a,b)\n",
    "c2 = a+b\n",
    "print(c, c2)"
   ]
  },
  {
   "cell_type": "code",
   "execution_count": 19,
   "metadata": {},
   "outputs": [
    {
     "name": "stdout",
     "output_type": "stream",
     "text": [
      "6.0\n",
      "6.0\n"
     ]
    }
   ],
   "source": [
    "#TensorFlow\n",
    "#a custom function\n",
    "def func(a,b):\n",
    "  c = tf.add(a,b)\n",
    "  d = tf.subtract(b,1)\n",
    "  e = tf.multiply(c,d)\n",
    "\n",
    "  return e\n",
    "\n",
    "a, b = 1.5, 2.5\n",
    "\n",
    "e_out = func(a,b)\n",
    "print(e_out.numpy())\n",
    "#***************************\n",
    "#PyTorch\n",
    "def func(a,b):\n",
    "  c = torch.add(a,b)\n",
    "  d = torch.subtract(b,1)\n",
    "  e = torch.multiply(c,d)\n",
    "\n",
    "  return e\n",
    "\n",
    "a, b = 1.5, 2.5\n",
    "\n",
    "e_out = func(a,b)\n",
    "print(e_out.numpy())"
   ]
  },
  {
   "cell_type": "markdown",
   "metadata": {},
   "source": [
    "# Neural Networks in TensorFlow/PyTorch"
   ]
  },
  {
   "cell_type": "markdown",
   "metadata": {},
   "source": [
    "## TensorFlow"
   ]
  },
  {
   "cell_type": "code",
   "execution_count": 20,
   "metadata": {},
   "outputs": [
    {
     "name": "stdout",
     "output_type": "stream",
     "text": [
      "[[0.8964527  0.44808388 0.25748628]]\n"
     ]
    }
   ],
   "source": [
    "#Tensorflow\n",
    "# a simple perceptron; y = sigmoid_function(Wx + b)\n",
    "# Defining a network layer\n",
    "\n",
    "# n_output_nodes: number of output nodes\n",
    "# input_shape: shape of the input\n",
    "# x: input to the layer\n",
    "\n",
    "class DenseLayer(tf.keras.layers.Layer):\n",
    "  def __init__(self, n_output_nodes):\n",
    "    super(DenseLayer, self).__init__()\n",
    "    self.n_output_nodes = n_output_nodes\n",
    "\n",
    "  def build(self, input_shape):\n",
    "    d = int(input_shape[-1])\n",
    "    self.W = self.add_weight(\"weight\", shape=[d, self.n_output_nodes])\n",
    "    self.b = self.add_weight(\"bias\", shape=[1, self.n_output_nodes]) \n",
    "\n",
    "  def call(self, x):\n",
    "    z = tf.matmul(x, self.W)\n",
    "    z = tf.add(z, self.b)\n",
    "\n",
    "    y = tf.sigmoid(z)\n",
    "\n",
    "    return y\n",
    "\n",
    "#fixing the seed\n",
    "tf.random.set_seed(1)\n",
    "#creating an instance of our denselayer\n",
    "layer = DenseLayer(3)\n",
    "layer.build((1,2))\n",
    "x_input = tf.constant([[1,2.]], shape=(1,2))\n",
    "y = layer.call(x_input)\n",
    "\n",
    "print(y.numpy())"
   ]
  },
  {
   "cell_type": "markdown",
   "metadata": {},
   "source": [
    "## PyTorch"
   ]
  },
  {
   "cell_type": "code",
   "execution_count": 23,
   "metadata": {},
   "outputs": [
    {
     "name": "stdout",
     "output_type": "stream",
     "text": [
      "[[1.         0.50000036 1.        ]]\n"
     ]
    }
   ],
   "source": [
    "#PyTorch implementation of the previous cell\n",
    "class DenseLayer(nn.Module):\n",
    "  def __init__(self, n_output_nodes):\n",
    "    super(DenseLayer, self).__init__()\n",
    "    self.n_output_nodes = n_output_nodes\n",
    "\n",
    "  def build(self, input_shape):\n",
    "    d = int(input_shape[-1])\n",
    "\n",
    "    self.W = torch.nn.Parameter(torch.empty((d, self.n_output_nodes)))\n",
    "    self.b = torch.nn.Parameter(torch.empty((1, self.n_output_nodes)))\n",
    "\n",
    "  def call(self, x):\n",
    "    z = torch.matmul(x, self.W)\n",
    "    z = torch.add(z, self.b)\n",
    "\n",
    "    y = torch.sigmoid(z)\n",
    "\n",
    "    return y\n",
    "\n",
    "torch.manual_seed(1)\n",
    "layer = DenseLayer(3)\n",
    "layer.build((1,2))\n",
    "x_input = torch.tensor([[1.0,2.0]])\n",
    "y = layer.call(x_input)\n",
    "\n",
    "print(y.detach().numpy())"
   ]
  },
  {
   "cell_type": "markdown",
   "metadata": {},
   "source": [
    "## Tensorflow"
   ]
  },
  {
   "cell_type": "code",
   "execution_count": 25,
   "metadata": {},
   "outputs": [
    {
     "name": "stdout",
     "output_type": "stream",
     "text": [
      "Model: \"sequential_1\"\n",
      "_________________________________________________________________\n",
      " Layer (type)                Output Shape              Param #   \n",
      "=================================================================\n",
      " dense_1 (Dense)             (1, 3)                    9         \n",
      "                                                                 \n",
      "=================================================================\n",
      "Total params: 9\n",
      "Trainable params: 9\n",
      "Non-trainable params: 0\n",
      "_________________________________________________________________\n",
      "None\n"
     ]
    }
   ],
   "source": [
    "#Defining a neural network using the sequential API\n",
    "from tensorflow.keras import Sequential\n",
    "from tensorflow.keras.layers import Dense\n",
    "\n",
    "n_output_nodes = 3\n",
    "\n",
    "#first define the model\n",
    "model = Sequential()\n",
    "#layer\n",
    "dense_layer = Dense(n_output_nodes, activation=\"sigmoid\")\n",
    "model.add(dense_layer)\n",
    "\n",
    "# Test model with example input\n",
    "tf.random.set_seed(1)\n",
    "x_input = tf.constant([[1,2.]], shape=(1,2))\n",
    "model_output  = model(x_input)\n",
    "print(model.summary())"
   ]
  },
  {
   "cell_type": "code",
   "execution_count": null,
   "metadata": {},
   "outputs": [],
   "source": []
  }
 ],
 "metadata": {
  "kernelspec": {
   "display_name": "Python 3.9.6 64-bit",
   "language": "python",
   "name": "python3"
  },
  "language_info": {
   "codemirror_mode": {
    "name": "ipython",
    "version": 3
   },
   "file_extension": ".py",
   "mimetype": "text/x-python",
   "name": "python",
   "nbconvert_exporter": "python",
   "pygments_lexer": "ipython3",
   "version": "3.9.6"
  },
  "orig_nbformat": 4,
  "vscode": {
   "interpreter": {
    "hash": "c50cf09ab0329ccd20bb189976f78b644f53f0461f30c902e674e2072027ed74"
   }
  }
 },
 "nbformat": 4,
 "nbformat_minor": 2
}
